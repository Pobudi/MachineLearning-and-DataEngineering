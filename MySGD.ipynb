{
 "cells": [
  {
   "cell_type": "code",
   "execution_count": 45,
   "id": "b01330d8",
   "metadata": {},
   "outputs": [],
   "source": [
    "import numpy as np\n",
    "from sklearn import datasets\n",
    "import random\n",
    "from sklearn.linear_model import SGDRegressor\n",
    "from sklearn.model_selection import train_test_split"
   ]
  },
  {
   "cell_type": "code",
   "execution_count": 190,
   "id": "473798c9",
   "metadata": {},
   "outputs": [
    {
     "data": {
      "text/plain": [
       "((100, 1), (100, 1))"
      ]
     },
     "execution_count": 190,
     "metadata": {},
     "output_type": "execute_result"
    }
   ],
   "source": [
    "# iris = datasets.load_iris()\n",
    "# X_train, X_test, y_train, y_test = train_test_split(iris.data, iris.target, test_size=0.2)\n",
    "X = 2 * np.random.rand(100, 1)\n",
    "y = 4 + 3 * X + np.random.randn(100, 1)\n",
    "X_train, X_test, y_train, y_test = train_test_split(X, y, test_size=0.2)\n",
    "X.shape, y.shape"
   ]
  },
  {
   "cell_type": "code",
   "execution_count": 272,
   "id": "c0b1b90f",
   "metadata": {},
   "outputs": [
    {
     "data": {
      "text/plain": [
       "array([[0.10270818],\n",
       "       [6.03968307]])"
      ]
     },
     "execution_count": 272,
     "metadata": {},
     "output_type": "execute_result"
    }
   ],
   "source": [
    "n_epochs = 300\n",
    "t0, t1 = 5, 50  # learning schedule hyperparameters\n",
    "\n",
    "def learning_schedule(t):\n",
    "    return t0 / (t + t1)\n",
    "\n",
    "def f(X, y, s):\n",
    "    X_b = np.c_[np.ones((len(X), 1)), X]  # Add bias term\n",
    "    theta = np.random.rand(X_b.shape[1], 1)  # Initialize theta\n",
    "    m = X_b.shape[0]\n",
    "    for epoch in range(n_epochs):\n",
    "        for i in range(m):\n",
    "            random_subset_indices = random.sample(range(1, X_b.shape[1]), 1)  # Exclude bias term\n",
    "            random_gradient = np.zeros((X_b.shape[1], 1))\n",
    "            for j in random_subset_indices:\n",
    "                random_gradient[j] = (2/m) * X_b[:, j].T.dot(X_b.dot(theta) - y)\n",
    "            theta -= 0.01 * random_gradient\n",
    "    return theta\n",
    "\n",
    "f(X, y, 1)"
   ]
  },
  {
   "cell_type": "code",
   "execution_count": 195,
   "id": "49d75355",
   "metadata": {},
   "outputs": [
    {
     "data": {
      "text/plain": [
       "array([[4.30222374],\n",
       "       [2.96500334]])"
      ]
     },
     "execution_count": 195,
     "metadata": {},
     "output_type": "execute_result"
    }
   ],
   "source": [
    "n_epochs = 50\n",
    "t0, t1 = 5, 50  # learning schedule hyperparameters\n",
    "\n",
    "def learning_schedule(t):\n",
    "    return t0 / (t + t1)\n",
    "\n",
    "def MySGD(X, y, a, s):\n",
    "    X_b = np.c_[np.ones((len(X),1)), X]\n",
    "    theta = np.random.rand(X_b.shape[1], 1)\n",
    "    m = X_b.shape[0]\n",
    "    for epoch in range(n_epochs):\n",
    "        for i in range(m):\n",
    "            to_update = random.sample(range(m), s)\n",
    "            \n",
    "            msa = 2*(X_b[to_update].T.dot(X_b[to_update].dot(theta)-y[to_update]))\n",
    "            eta = learning_schedule(epoch * m + i)\n",
    "            theta = theta - eta*msa\n",
    "    return theta\n",
    "MySGD(X, y, 0.0001, 1)"
   ]
  },
  {
   "cell_type": "code",
   "execution_count": 137,
   "id": "65d489ca",
   "metadata": {},
   "outputs": [
    {
     "data": {
      "text/plain": [
       "SGDRegressor()"
      ]
     },
     "execution_count": 137,
     "metadata": {},
     "output_type": "execute_result"
    }
   ],
   "source": [
    "om = SGDRegressor(alpha=0.0001)\n",
    "om.fit(X_train, y_train.ravel())"
   ]
  },
  {
   "cell_type": "code",
   "execution_count": 138,
   "id": "29a99a65",
   "metadata": {},
   "outputs": [
    {
     "data": {
      "text/plain": [
       "(array([3.32550029]), array([3.60541296]))"
      ]
     },
     "execution_count": 138,
     "metadata": {},
     "output_type": "execute_result"
    }
   ],
   "source": [
    "om.coef_, om.intercept_"
   ]
  },
  {
   "cell_type": "code",
   "execution_count": 76,
   "id": "a51976d7",
   "metadata": {},
   "outputs": [
    {
     "data": {
      "text/plain": [
       "array([0, 0])"
      ]
     },
     "execution_count": 76,
     "metadata": {},
     "output_type": "execute_result"
    }
   ],
   "source": [
    "# to_update = random.sample(range(theta.shape[0]), 2)\n"
   ]
  },
  {
   "cell_type": "code",
   "execution_count": null,
   "id": "d4972e35",
   "metadata": {},
   "outputs": [],
   "source": []
  }
 ],
 "metadata": {
  "kernelspec": {
   "display_name": "Python 3 (ipykernel)",
   "language": "python",
   "name": "python3"
  },
  "language_info": {
   "codemirror_mode": {
    "name": "ipython",
    "version": 3
   },
   "file_extension": ".py",
   "mimetype": "text/x-python",
   "name": "python",
   "nbconvert_exporter": "python",
   "pygments_lexer": "ipython3",
   "version": "3.7.13"
  }
 },
 "nbformat": 4,
 "nbformat_minor": 5
}
