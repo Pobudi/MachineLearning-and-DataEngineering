{
 "cells": [
  {
   "cell_type": "code",
   "execution_count": 48,
   "id": "fa8de0ee",
   "metadata": {},
   "outputs": [],
   "source": [
    "import os\n",
    "import tarfile\n",
    "import urllib.request\n",
    "import numpy as np\n",
    "from sklearn.neighbors import KNeighborsClassifier\n",
    "from sklearn.model_selection import GridSearchCV\n",
    "\n",
    "download_root = \"http://spamassassin.apache.org/old/publiccorpus/\"\n",
    "ham_url = DOWNLOAD_ROOT + \"20030228_easy_ham.tar.bz2\"\n",
    "spam_url = DOWNLOAD_ROOT + \"20030228_spam.tar.bz2\"\n",
    "spam_path = os.path.join(\"datasets\", \"spam\")\n",
    "if not os.path.isdir(spam_path):\n",
    "    os.makedirs(spam_path)\n",
    "for filename, url in ((\"ham.tar.bz2\", ham_url), (\"spam.tar.bz2\", spam_url)):\n",
    "    path = os.path.join(spam_path, filename)\n",
    "    if not os.path.isfile(path):\n",
    "        urllib.request.urlretrieve(url, path)\n",
    "    tar_bz2_file = tarfile.open(path)\n",
    "    tar_bz2_file.extractall(path=spam_path)\n",
    "    tar_bz2_file.close()\n",
    "HAM_DIR = os.path.join(SPAM_PATH, \"easy_ham\")\n",
    "SPAM_DIR = os.path.join(SPAM_PATH, \"spam\")\n",
    "ham_filenames = [name for name in sorted(os.listdir(HAM_DIR)) if len(name) > 20]\n",
    "spam_filenames = [name for name in sorted(os.listdir(SPAM_DIR)) if len(name) > 20]"
   ]
  },
  {
   "cell_type": "code",
   "execution_count": 3,
   "id": "4a0181c8",
   "metadata": {},
   "outputs": [
    {
     "data": {
      "text/plain": [
       "(2500, 500)"
      ]
     },
     "execution_count": 3,
     "metadata": {},
     "output_type": "execute_result"
    }
   ],
   "source": [
    "len(ham_filenames), len(spam_filenames)"
   ]
  },
  {
   "cell_type": "code",
   "execution_count": 6,
   "id": "420691c3",
   "metadata": {},
   "outputs": [],
   "source": [
    "import email\n",
    "import email.policy\n",
    "\n",
    "def load_email(is_spam, filename):\n",
    "    global spam_path\n",
    "    directory = \"spam\" if is_spam else \"easy_ham\"\n",
    "    with open(os.path.join(spam_path, directory, filename), \"rb\") as f:\n",
    "        return email.parser.BytesParser(policy=email.policy.default).parse(f)"
   ]
  },
  {
   "cell_type": "code",
   "execution_count": 7,
   "id": "19402c8b",
   "metadata": {},
   "outputs": [],
   "source": [
    "ham_email = [load_email(False, i) for i in ham_filenames]\n",
    "spam_email = [load_email(True, i) for i in spam_filenames]"
   ]
  },
  {
   "cell_type": "code",
   "execution_count": 26,
   "id": "c53c64f2",
   "metadata": {},
   "outputs": [
    {
     "data": {
      "text/plain": [
       "9989"
      ]
     },
     "execution_count": 26,
     "metadata": {},
     "output_type": "execute_result"
    }
   ],
   "source": [
    "words = set()\n",
    "with open(\"google-10000-english-usa(1).txt\", \"r\") as f:\n",
    "    word = f.readline()\n",
    "    while word:\n",
    "        words.add(word.strip())\n",
    "        word = f.readline()\n",
    "len(words)"
   ]
  },
  {
   "cell_type": "code",
   "execution_count": 35,
   "id": "c49bf47f",
   "metadata": {},
   "outputs": [
    {
     "data": {
      "text/plain": [
       "((2500, 9989), (500, 9989))"
      ]
     },
     "execution_count": 35,
     "metadata": {},
     "output_type": "execute_result"
    }
   ],
   "source": [
    "ham_email_v = np.array([[1 if i in mail else 0 for i in words] for mail in ham_email])\n",
    "spam_email_v = np.array([[1 if i in mail else 0 for i in words] for mail in spam_email])\n",
    "ham_email_v.shape, spam_email_v.shape"
   ]
  },
  {
   "cell_type": "code",
   "execution_count": 47,
   "id": "d6d9ccbc",
   "metadata": {},
   "outputs": [
    {
     "data": {
      "text/plain": [
       "((2400, 9989), (2400,), (600, 9989), (600,))"
      ]
     },
     "execution_count": 47,
     "metadata": {},
     "output_type": "execute_result"
    }
   ],
   "source": [
    "X_train, y_train, X_test, y_test = np.concatenate((ham_email_v[:2000], spam_email_v[:400])), np.concatenate((np.array([0]*2000), np.array([1]*400))), np.concatenate((ham_email_v[2000:], spam_email_v[400:])), np.concatenate((np.array([0]*500), np.array([1]*100)))\n",
    "X_train.shape, y_train.shape, X_test.shape, y_test.shape"
   ]
  },
  {
   "cell_type": "code",
   "execution_count": 50,
   "id": "204a325b",
   "metadata": {},
   "outputs": [
    {
     "name": "stdout",
     "output_type": "stream",
     "text": [
      "Fitting 5 folds for each of 16 candidates, totalling 80 fits\n",
      "[CV 1/5] END ....n_neighbors=2, weights=uniform;, score=0.806 total time=   0.4s\n",
      "[CV 2/5] END ....n_neighbors=2, weights=uniform;, score=0.833 total time=   0.5s\n",
      "[CV 3/5] END ....n_neighbors=2, weights=uniform;, score=0.833 total time=   0.4s\n",
      "[CV 4/5] END ....n_neighbors=2, weights=uniform;, score=0.844 total time=   0.5s\n",
      "[CV 5/5] END ....n_neighbors=2, weights=uniform;, score=0.838 total time=   0.5s\n",
      "[CV 1/5] END ...n_neighbors=2, weights=distance;, score=0.806 total time=   0.4s\n",
      "[CV 2/5] END ...n_neighbors=2, weights=distance;, score=0.833 total time=   0.4s\n",
      "[CV 3/5] END ...n_neighbors=2, weights=distance;, score=0.833 total time=   0.4s\n",
      "[CV 4/5] END ...n_neighbors=2, weights=distance;, score=0.844 total time=   0.4s\n",
      "[CV 5/5] END ...n_neighbors=2, weights=distance;, score=0.838 total time=   0.4s\n",
      "[CV 1/5] END ....n_neighbors=3, weights=uniform;, score=0.806 total time=   0.4s\n",
      "[CV 2/5] END ....n_neighbors=3, weights=uniform;, score=0.833 total time=   0.4s\n",
      "[CV 3/5] END ....n_neighbors=3, weights=uniform;, score=0.833 total time=   0.4s\n",
      "[CV 4/5] END ....n_neighbors=3, weights=uniform;, score=0.844 total time=   0.4s\n",
      "[CV 5/5] END ....n_neighbors=3, weights=uniform;, score=0.844 total time=   0.4s\n",
      "[CV 1/5] END ...n_neighbors=3, weights=distance;, score=0.806 total time=   0.4s\n",
      "[CV 2/5] END ...n_neighbors=3, weights=distance;, score=0.833 total time=   0.4s\n",
      "[CV 3/5] END ...n_neighbors=3, weights=distance;, score=0.833 total time=   0.4s\n",
      "[CV 4/5] END ...n_neighbors=3, weights=distance;, score=0.844 total time=   0.4s\n",
      "[CV 5/5] END ...n_neighbors=3, weights=distance;, score=0.844 total time=   0.4s\n",
      "[CV 1/5] END ....n_neighbors=4, weights=uniform;, score=0.848 total time=   0.4s\n",
      "[CV 2/5] END ....n_neighbors=4, weights=uniform;, score=0.942 total time=   0.4s\n",
      "[CV 3/5] END ....n_neighbors=4, weights=uniform;, score=0.942 total time=   0.4s\n",
      "[CV 4/5] END ....n_neighbors=4, weights=uniform;, score=0.917 total time=   0.4s\n",
      "[CV 5/5] END ....n_neighbors=4, weights=uniform;, score=0.460 total time=   0.4s\n",
      "[CV 1/5] END ...n_neighbors=4, weights=distance;, score=0.848 total time=   0.5s\n",
      "[CV 2/5] END ...n_neighbors=4, weights=distance;, score=0.942 total time=   0.4s\n",
      "[CV 3/5] END ...n_neighbors=4, weights=distance;, score=0.942 total time=   0.4s\n",
      "[CV 4/5] END ...n_neighbors=4, weights=distance;, score=0.927 total time=   0.4s\n",
      "[CV 5/5] END ...n_neighbors=4, weights=distance;, score=0.460 total time=   0.4s\n",
      "[CV 1/5] END ....n_neighbors=5, weights=uniform;, score=0.783 total time=   0.4s\n",
      "[CV 2/5] END ....n_neighbors=5, weights=uniform;, score=0.965 total time=   0.5s\n",
      "[CV 3/5] END ....n_neighbors=5, weights=uniform;, score=0.942 total time=   0.5s\n",
      "[CV 4/5] END ....n_neighbors=5, weights=uniform;, score=0.925 total time=   0.4s\n",
      "[CV 5/5] END ....n_neighbors=5, weights=uniform;, score=0.471 total time=   0.4s\n",
      "[CV 1/5] END ...n_neighbors=5, weights=distance;, score=0.783 total time=   0.5s\n",
      "[CV 2/5] END ...n_neighbors=5, weights=distance;, score=0.965 total time=   0.4s\n",
      "[CV 3/5] END ...n_neighbors=5, weights=distance;, score=0.942 total time=   0.5s\n",
      "[CV 4/5] END ...n_neighbors=5, weights=distance;, score=0.927 total time=   0.5s\n",
      "[CV 5/5] END ...n_neighbors=5, weights=distance;, score=0.471 total time=   0.3s\n",
      "[CV 1/5] END ....n_neighbors=6, weights=uniform;, score=0.848 total time=   0.4s\n",
      "[CV 2/5] END ....n_neighbors=6, weights=uniform;, score=0.942 total time=   0.4s\n",
      "[CV 3/5] END ....n_neighbors=6, weights=uniform;, score=0.942 total time=   0.4s\n",
      "[CV 4/5] END ....n_neighbors=6, weights=uniform;, score=0.915 total time=   0.4s\n",
      "[CV 5/5] END ....n_neighbors=6, weights=uniform;, score=0.471 total time=   0.4s\n",
      "[CV 1/5] END ...n_neighbors=6, weights=distance;, score=0.848 total time=   0.3s\n",
      "[CV 2/5] END ...n_neighbors=6, weights=distance;, score=0.942 total time=   0.4s\n",
      "[CV 3/5] END ...n_neighbors=6, weights=distance;, score=0.942 total time=   0.4s\n",
      "[CV 4/5] END ...n_neighbors=6, weights=distance;, score=0.927 total time=   0.4s\n",
      "[CV 5/5] END ...n_neighbors=6, weights=distance;, score=0.471 total time=   0.4s\n",
      "[CV 1/5] END ....n_neighbors=7, weights=uniform;, score=0.848 total time=   0.5s\n",
      "[CV 2/5] END ....n_neighbors=7, weights=uniform;, score=0.942 total time=   0.4s\n",
      "[CV 3/5] END ....n_neighbors=7, weights=uniform;, score=0.965 total time=   0.4s\n",
      "[CV 4/5] END ....n_neighbors=7, weights=uniform;, score=0.915 total time=   0.5s\n",
      "[CV 5/5] END ....n_neighbors=7, weights=uniform;, score=0.471 total time=   0.5s\n",
      "[CV 1/5] END ...n_neighbors=7, weights=distance;, score=0.848 total time=   0.4s\n",
      "[CV 2/5] END ...n_neighbors=7, weights=distance;, score=0.942 total time=   0.4s\n",
      "[CV 3/5] END ...n_neighbors=7, weights=distance;, score=0.965 total time=   0.5s\n",
      "[CV 4/5] END ...n_neighbors=7, weights=distance;, score=0.927 total time=   0.5s\n",
      "[CV 5/5] END ...n_neighbors=7, weights=distance;, score=0.471 total time=   0.4s\n",
      "[CV 1/5] END ....n_neighbors=8, weights=uniform;, score=0.848 total time=   0.4s\n",
      "[CV 2/5] END ....n_neighbors=8, weights=uniform;, score=0.942 total time=   0.4s\n",
      "[CV 3/5] END ....n_neighbors=8, weights=uniform;, score=0.942 total time=   0.4s\n",
      "[CV 4/5] END ....n_neighbors=8, weights=uniform;, score=0.915 total time=   0.5s\n",
      "[CV 5/5] END ....n_neighbors=8, weights=uniform;, score=0.471 total time=   0.4s\n",
      "[CV 1/5] END ...n_neighbors=8, weights=distance;, score=0.848 total time=   0.4s\n",
      "[CV 2/5] END ...n_neighbors=8, weights=distance;, score=0.942 total time=   0.4s\n",
      "[CV 3/5] END ...n_neighbors=8, weights=distance;, score=0.942 total time=   0.4s\n",
      "[CV 4/5] END ...n_neighbors=8, weights=distance;, score=0.927 total time=   0.4s\n",
      "[CV 5/5] END ...n_neighbors=8, weights=distance;, score=0.471 total time=   0.4s\n",
      "[CV 1/5] END ....n_neighbors=9, weights=uniform;, score=0.848 total time=   0.4s\n",
      "[CV 2/5] END ....n_neighbors=9, weights=uniform;, score=0.942 total time=   0.3s\n",
      "[CV 3/5] END ....n_neighbors=9, weights=uniform;, score=0.965 total time=   0.4s\n",
      "[CV 4/5] END ....n_neighbors=9, weights=uniform;, score=0.915 total time=   0.4s\n",
      "[CV 5/5] END ....n_neighbors=9, weights=uniform;, score=0.471 total time=   0.3s\n",
      "[CV 1/5] END ...n_neighbors=9, weights=distance;, score=0.848 total time=   0.3s\n",
      "[CV 2/5] END ...n_neighbors=9, weights=distance;, score=0.942 total time=   0.4s\n",
      "[CV 3/5] END ...n_neighbors=9, weights=distance;, score=0.965 total time=   0.3s\n",
      "[CV 4/5] END ...n_neighbors=9, weights=distance;, score=0.927 total time=   0.4s\n",
      "[CV 5/5] END ...n_neighbors=9, weights=distance;, score=0.471 total time=   0.3s\n"
     ]
    },
    {
     "data": {
      "text/html": [
       "<style>#sk-container-id-1 {color: black;}#sk-container-id-1 pre{padding: 0;}#sk-container-id-1 div.sk-toggleable {background-color: white;}#sk-container-id-1 label.sk-toggleable__label {cursor: pointer;display: block;width: 100%;margin-bottom: 0;padding: 0.3em;box-sizing: border-box;text-align: center;}#sk-container-id-1 label.sk-toggleable__label-arrow:before {content: \"▸\";float: left;margin-right: 0.25em;color: #696969;}#sk-container-id-1 label.sk-toggleable__label-arrow:hover:before {color: black;}#sk-container-id-1 div.sk-estimator:hover label.sk-toggleable__label-arrow:before {color: black;}#sk-container-id-1 div.sk-toggleable__content {max-height: 0;max-width: 0;overflow: hidden;text-align: left;background-color: #f0f8ff;}#sk-container-id-1 div.sk-toggleable__content pre {margin: 0.2em;color: black;border-radius: 0.25em;background-color: #f0f8ff;}#sk-container-id-1 input.sk-toggleable__control:checked~div.sk-toggleable__content {max-height: 200px;max-width: 100%;overflow: auto;}#sk-container-id-1 input.sk-toggleable__control:checked~label.sk-toggleable__label-arrow:before {content: \"▾\";}#sk-container-id-1 div.sk-estimator input.sk-toggleable__control:checked~label.sk-toggleable__label {background-color: #d4ebff;}#sk-container-id-1 div.sk-label input.sk-toggleable__control:checked~label.sk-toggleable__label {background-color: #d4ebff;}#sk-container-id-1 input.sk-hidden--visually {border: 0;clip: rect(1px 1px 1px 1px);clip: rect(1px, 1px, 1px, 1px);height: 1px;margin: -1px;overflow: hidden;padding: 0;position: absolute;width: 1px;}#sk-container-id-1 div.sk-estimator {font-family: monospace;background-color: #f0f8ff;border: 1px dotted black;border-radius: 0.25em;box-sizing: border-box;margin-bottom: 0.5em;}#sk-container-id-1 div.sk-estimator:hover {background-color: #d4ebff;}#sk-container-id-1 div.sk-parallel-item::after {content: \"\";width: 100%;border-bottom: 1px solid gray;flex-grow: 1;}#sk-container-id-1 div.sk-label:hover label.sk-toggleable__label {background-color: #d4ebff;}#sk-container-id-1 div.sk-serial::before {content: \"\";position: absolute;border-left: 1px solid gray;box-sizing: border-box;top: 0;bottom: 0;left: 50%;z-index: 0;}#sk-container-id-1 div.sk-serial {display: flex;flex-direction: column;align-items: center;background-color: white;padding-right: 0.2em;padding-left: 0.2em;position: relative;}#sk-container-id-1 div.sk-item {position: relative;z-index: 1;}#sk-container-id-1 div.sk-parallel {display: flex;align-items: stretch;justify-content: center;background-color: white;position: relative;}#sk-container-id-1 div.sk-item::before, #sk-container-id-1 div.sk-parallel-item::before {content: \"\";position: absolute;border-left: 1px solid gray;box-sizing: border-box;top: 0;bottom: 0;left: 50%;z-index: -1;}#sk-container-id-1 div.sk-parallel-item {display: flex;flex-direction: column;z-index: 1;position: relative;background-color: white;}#sk-container-id-1 div.sk-parallel-item:first-child::after {align-self: flex-end;width: 50%;}#sk-container-id-1 div.sk-parallel-item:last-child::after {align-self: flex-start;width: 50%;}#sk-container-id-1 div.sk-parallel-item:only-child::after {width: 0;}#sk-container-id-1 div.sk-dashed-wrapped {border: 1px dashed gray;margin: 0 0.4em 0.5em 0.4em;box-sizing: border-box;padding-bottom: 0.4em;background-color: white;}#sk-container-id-1 div.sk-label label {font-family: monospace;font-weight: bold;display: inline-block;line-height: 1.2em;}#sk-container-id-1 div.sk-label-container {text-align: center;}#sk-container-id-1 div.sk-container {/* jupyter's `normalize.less` sets `[hidden] { display: none; }` but bootstrap.min.css set `[hidden] { display: none !important; }` so we also need the `!important` here to be able to override the default hidden behavior on the sphinx rendered scikit-learn.org. See: https://github.com/scikit-learn/scikit-learn/issues/21755 */display: inline-block !important;position: relative;}#sk-container-id-1 div.sk-text-repr-fallback {display: none;}</style><div id=\"sk-container-id-1\" class=\"sk-top-container\"><div class=\"sk-text-repr-fallback\"><pre>GridSearchCV(estimator=KNeighborsClassifier(),\n",
       "             param_grid={&#x27;n_neighbors&#x27;: [2, 3, 4, 5, 6, 7, 8, 9],\n",
       "                         &#x27;weights&#x27;: [&#x27;uniform&#x27;, &#x27;distance&#x27;]},\n",
       "             verbose=3)</pre><b>In a Jupyter environment, please rerun this cell to show the HTML representation or trust the notebook. <br />On GitHub, the HTML representation is unable to render, please try loading this page with nbviewer.org.</b></div><div class=\"sk-container\" hidden><div class=\"sk-item sk-dashed-wrapped\"><div class=\"sk-label-container\"><div class=\"sk-label sk-toggleable\"><input class=\"sk-toggleable__control sk-hidden--visually\" id=\"sk-estimator-id-1\" type=\"checkbox\" ><label for=\"sk-estimator-id-1\" class=\"sk-toggleable__label sk-toggleable__label-arrow\">GridSearchCV</label><div class=\"sk-toggleable__content\"><pre>GridSearchCV(estimator=KNeighborsClassifier(),\n",
       "             param_grid={&#x27;n_neighbors&#x27;: [2, 3, 4, 5, 6, 7, 8, 9],\n",
       "                         &#x27;weights&#x27;: [&#x27;uniform&#x27;, &#x27;distance&#x27;]},\n",
       "             verbose=3)</pre></div></div></div><div class=\"sk-parallel\"><div class=\"sk-parallel-item\"><div class=\"sk-item\"><div class=\"sk-label-container\"><div class=\"sk-label sk-toggleable\"><input class=\"sk-toggleable__control sk-hidden--visually\" id=\"sk-estimator-id-2\" type=\"checkbox\" ><label for=\"sk-estimator-id-2\" class=\"sk-toggleable__label sk-toggleable__label-arrow\">estimator: KNeighborsClassifier</label><div class=\"sk-toggleable__content\"><pre>KNeighborsClassifier()</pre></div></div></div><div class=\"sk-serial\"><div class=\"sk-item\"><div class=\"sk-estimator sk-toggleable\"><input class=\"sk-toggleable__control sk-hidden--visually\" id=\"sk-estimator-id-3\" type=\"checkbox\" ><label for=\"sk-estimator-id-3\" class=\"sk-toggleable__label sk-toggleable__label-arrow\">KNeighborsClassifier</label><div class=\"sk-toggleable__content\"><pre>KNeighborsClassifier()</pre></div></div></div></div></div></div></div></div></div></div>"
      ],
      "text/plain": [
       "GridSearchCV(estimator=KNeighborsClassifier(),\n",
       "             param_grid={'n_neighbors': [2, 3, 4, 5, 6, 7, 8, 9],\n",
       "                         'weights': ['uniform', 'distance']},\n",
       "             verbose=3)"
      ]
     },
     "execution_count": 50,
     "metadata": {},
     "output_type": "execute_result"
    }
   ],
   "source": [
    "cv = GridSearchCV(KNeighborsClassifier(), \n",
    "                  verbose=3, \n",
    "                  param_grid={\"weights\":[\"uniform\", \"distance\"], \"n_neighbors\": list(range(2, 10))},\n",
    ")\n",
    "cv.fit(X_train, y_train)"
   ]
  },
  {
   "cell_type": "code",
   "execution_count": 51,
   "id": "2722a707",
   "metadata": {},
   "outputs": [
    {
     "data": {
      "text/plain": [
       "({'n_neighbors': 3, 'weights': 'uniform'}, 0.8320833333333333)"
      ]
     },
     "execution_count": 51,
     "metadata": {},
     "output_type": "execute_result"
    }
   ],
   "source": [
    "cv.best_params_, cv.best_score_"
   ]
  },
  {
   "cell_type": "code",
   "execution_count": null,
   "id": "53ce57cb",
   "metadata": {},
   "outputs": [],
   "source": []
  }
 ],
 "metadata": {
  "kernelspec": {
   "display_name": "Python 3 (ipykernel)",
   "language": "python",
   "name": "python3"
  },
  "language_info": {
   "codemirror_mode": {
    "name": "ipython",
    "version": 3
   },
   "file_extension": ".py",
   "mimetype": "text/x-python",
   "name": "python",
   "nbconvert_exporter": "python",
   "pygments_lexer": "ipython3",
   "version": "3.7.13"
  }
 },
 "nbformat": 4,
 "nbformat_minor": 5
}
